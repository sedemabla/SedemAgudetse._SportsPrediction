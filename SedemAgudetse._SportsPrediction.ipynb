{
  "cells": [
    {
      "cell_type": "markdown",
      "metadata": {
        "id": "UKY3KSclkHOt"
      },
      "source": [
        "importing necessary libraries\n"
      ]
    },
    {
      "cell_type": "code",
      "execution_count": 2,
      "metadata": {
        "id": "Xpfb51DroZkX"
      },
      "outputs": [],
      "source": [
        "import numpy as np\n",
        "import matplotlib.pyplot as plt\n",
        "import pandas as pd\n"
      ]
    },
    {
      "cell_type": "markdown",
      "metadata": {
        "id": "sEZJyXJjkMwt"
      },
      "source": [
        "mounting google drive to load  my dataset"
      ]
    },
    {
      "cell_type": "code",
      "execution_count": 3,
      "metadata": {
        "colab": {
          "base_uri": "https://localhost:8080/"
        },
        "id": "h32Atcq0oeVN",
        "outputId": "e36ded18-6b2e-4fde-bae4-7c1f77e99c61"
      },
      "outputs": [],
      "source": [
        "#from google.colab import drive\n",
        "#drive.mount('/content/drive')"
      ]
    },
    {
      "cell_type": "markdown",
      "metadata": {
        "id": "Q1wsBpQBkbGy"
      },
      "source": [
        "assigning the players22 dataset to df_22"
      ]
    },
    {
      "cell_type": "code",
      "execution_count": 4,
      "metadata": {
        "id": "oEOr3ba_oeSM"
      },
      "outputs": [],
      "source": [
        "data_22  = pd.read_csv('players_22 .csv', low_memory= False)"
      ]
    },
    {
      "cell_type": "markdown",
      "metadata": {
        "id": "33IOHGkJkhnw"
      },
      "source": [
        "assigning the male_palyers dataset to df_male"
      ]
    },
    {
      "cell_type": "code",
      "execution_count": 5,
      "metadata": {
        "id": "igQ0paD0oeP2"
      },
      "outputs": [],
      "source": [
        "data_male=pd.read_csv('male_players (legacy) .csv',low_memory= False)"
      ]
    },
    {
      "cell_type": "markdown",
      "metadata": {
        "id": "SzvEJ6o2qs1A"
      },
      "source": []
    },
    {
      "cell_type": "markdown",
      "metadata": {
        "id": "cZyOUyL5sfHX"
      },
      "source": [
        "Making a copy of the datasets to keep the original as reference"
      ]
    },
    {
      "cell_type": "markdown",
      "metadata": {
        "id": "LPYpoZwL-KI5"
      },
      "source": [
        "#Exploratory data analysis"
      ]
    },
    {
      "cell_type": "code",
      "execution_count": 6,
      "metadata": {
        "colab": {
          "base_uri": "https://localhost:8080/"
        },
        "id": "WNscKK90oeKb",
        "outputId": "318c7b8d-4d20-4c2b-dab6-fb9faa45f8df"
      },
      "outputs": [
        {
          "data": {
            "text/plain": [
              "overall                        1.000000\n",
              "movement_reactions             0.871823\n",
              "passing                        0.715001\n",
              "mentality_composure            0.708867\n",
              "dribbling                      0.666402\n",
              "potential                      0.644275\n",
              "wage_eur                       0.601764\n",
              "power_shot_power               0.561180\n",
              "value_eur                      0.554684\n",
              "release_clause_eur             0.545197\n",
              "physic                         0.529234\n",
              "mentality_vision               0.523025\n",
              "attacking_short_passing        0.516788\n",
              "goalkeeping_speed              0.499533\n",
              "skill_long_passing             0.498216\n",
              "shooting                       0.489623\n",
              "international_reputation       0.470647\n",
              "skill_ball_control             0.460411\n",
              "age                            0.459451\n",
              "skill_curve                    0.420423\n",
              "power_long_shots               0.410010\n",
              "attacking_crossing             0.401356\n",
              "mentality_aggression           0.400161\n",
              "power_stamina                  0.385150\n",
              "skill_dribbling                0.384351\n",
              "skill_fk_accuracy              0.381030\n",
              "attacking_volleys              0.380942\n",
              "skill_moves                    0.376226\n",
              "power_strength                 0.364366\n",
              "mentality_positioning          0.358562\n",
              "defending                      0.346760\n",
              "attacking_heading_accuracy     0.343901\n",
              "mentality_penalties            0.343690\n",
              "attacking_finishing            0.338746\n",
              "mentality_interceptions        0.316470\n",
              "defending_marking_awareness    0.312093\n",
              "power_jumping                  0.284689\n",
              "movement_agility               0.270279\n",
              "defending_standing_tackle      0.259773\n",
              "defending_sliding_tackle       0.233589\n",
              "weak_foot                      0.223762\n",
              "movement_sprint_speed          0.205736\n",
              "movement_acceleration          0.194044\n",
              "club_contract_valid_until      0.184987\n",
              "pace                           0.174695\n",
              "weight_kg                      0.150324\n",
              "movement_balance               0.123700\n",
              "height_cm                      0.042787\n",
              "goalkeeping_positioning       -0.002485\n",
              "goalkeeping_reflexes          -0.007960\n",
              "goalkeeping_diving            -0.010990\n",
              "goalkeeping_handling          -0.011080\n",
              "goalkeeping_kicking           -0.012986\n",
              "nation_jersey_number          -0.116020\n",
              "nationality_id                -0.168315\n",
              "league_level                  -0.179032\n",
              "club_jersey_number            -0.186166\n",
              "nation_team_id                -0.214303\n",
              "club_team_id                  -0.226640\n",
              "sofifa_id                     -0.491523\n",
              "Name: overall, dtype: float64"
            ]
          },
          "execution_count": 6,
          "metadata": {},
          "output_type": "execute_result"
        }
      ],
      "source": [
        "corr_matrix = data_22.corr(numeric_only=True)\n",
        "corr_matrix['overall'].sort_values(ascending=False)"
      ]
    },
    {
      "cell_type": "markdown",
      "metadata": {
        "id": "5c5cM5eGvOfP"
      },
      "source": [
        "removing useless variables( negative correlation with target stat)\n",
        "\n",
        "\n",
        "\n"
      ]
    },
    {
      "cell_type": "code",
      "execution_count": 7,
      "metadata": {
        "id": "4T6d9HkRvNpZ"
      },
      "outputs": [],
      "source": [
        "data_22.drop(['goalkeeping_diving','goalkeeping_handling','goalkeeping_kicking','goalkeeping_reflexes','goalkeeping_positioning','nation_jersey_number','nationality_id','club_jersey_number','club_team_id','league_level','nation_team_id', 'sofifa_id'], axis=1, inplace=True)\n"
      ]
    },
    {
      "cell_type": "markdown",
      "metadata": {
        "id": "soa6g20ikvUK"
      },
      "source": [
        "Assigning all columns that end with \"_url\" to url_columns"
      ]
    },
    {
      "cell_type": "code",
      "execution_count": 8,
      "metadata": {
        "id": "LFTBRdMtFyO7"
      },
      "outputs": [],
      "source": [
        "url_cols = [col for col in data_22.columns if col.endswith('_url')]\n"
      ]
    },
    {
      "cell_type": "markdown",
      "metadata": {
        "id": "mx-EEO5ik3Yw"
      },
      "source": [
        "Removing all columns  that end eith _url from data_22 dataset"
      ]
    },
    {
      "cell_type": "code",
      "execution_count": 9,
      "metadata": {
        "id": "U8DEfpV1JVT2"
      },
      "outputs": [],
      "source": [
        "data_22.drop(columns=url_cols, axis=1, inplace=True)"
      ]
    },
    {
      "cell_type": "markdown",
      "metadata": {
        "id": "zvAwsw_2mley"
      },
      "source": []
    },
    {
      "cell_type": "markdown",
      "metadata": {
        "id": "fOUd6_P8lGnd"
      },
      "source": [
        "Checking the correlation of all the columns to \"overrall\" column  to  see which has a high and low effect ."
      ]
    },
    {
      "cell_type": "code",
      "execution_count": 10,
      "metadata": {
        "colab": {
          "base_uri": "https://localhost:8080/"
        },
        "id": "WXH_ncNwxLBj",
        "outputId": "6784f036-d17d-456c-c8df-9f6102d342a5"
      },
      "outputs": [
        {
          "name": "stdout",
          "output_type": "stream",
          "text": [
            "overall                           1.000000\n",
            "movement_reactions                0.845753\n",
            "potential                         0.695362\n",
            "mentality_composure               0.683307\n",
            "passing                           0.681114\n",
            "wage_eur                          0.611368\n",
            "dribbling                         0.606575\n",
            "release_clause_eur                0.578914\n",
            "value_eur                         0.566827\n",
            "physic                            0.513279\n",
            "attacking_short_passing           0.499757\n",
            "mentality_vision                  0.493282\n",
            "international_reputation          0.485234\n",
            "skill_long_passing                0.483808\n",
            "shooting                          0.482498\n",
            "power_shot_power                  0.480297\n",
            "age                               0.458390\n",
            "skill_ball_control                0.457011\n",
            "skill_curve                       0.415863\n",
            "power_long_shots                  0.409086\n",
            "mentality_aggression              0.398310\n",
            "attacking_crossing                0.396833\n",
            "skill_fk_accuracy                 0.387269\n",
            "goalkeeping_speed                 0.385093\n",
            "attacking_volleys                 0.377048\n",
            "skill_dribbling                   0.369827\n",
            "power_stamina                     0.360025\n",
            "power_strength                    0.350786\n",
            "mentality_positioning             0.350178\n",
            "attacking_heading_accuracy        0.340029\n",
            "mentality_penalties               0.334488\n",
            "skill_moves                       0.330951\n",
            "attacking_finishing               0.326376\n",
            "defending                         0.325151\n",
            "mentality_interceptions           0.314282\n",
            "power_jumping                     0.275578\n",
            "defending_marking_awareness       0.274173\n",
            "movement_agility                  0.263671\n",
            "defending_standing_tackle         0.250624\n",
            "defending_sliding_tackle          0.220398\n",
            "weak_foot                         0.217422\n",
            "movement_sprint_speed             0.208990\n",
            "movement_acceleration             0.194625\n",
            "pace                              0.187184\n",
            "weight_kg                         0.140015\n",
            "movement_balance                  0.099129\n",
            "club_contract_valid_until_year    0.072073\n",
            "fifa_version                      0.047487\n",
            "height_cm                         0.044415\n",
            "goalkeeping_positioning          -0.004731\n",
            "goalkeeping_handling             -0.010862\n",
            "goalkeeping_reflexes             -0.011783\n",
            "goalkeeping_diving               -0.013603\n",
            "goalkeeping_kicking              -0.015521\n",
            "nation_jersey_number             -0.085530\n",
            "nationality_id                   -0.093951\n",
            "league_id                        -0.152280\n",
            "club_team_id                     -0.178272\n",
            "club_jersey_number               -0.187109\n",
            "league_level                     -0.221734\n",
            "nation_team_id                   -0.338501\n",
            "player_id                        -0.368772\n",
            "fifa_update                            NaN\n",
            "Name: overall, dtype: float64\n"
          ]
        }
      ],
      "source": [
        "corr_matrix = data_male.corr(numeric_only=True)\n",
        "sorted_corr = corr_matrix['overall'].sort_values(ascending=False)\n",
        "pd.set_option('display.max_rows', None)\n",
        "print(sorted_corr)\n"
      ]
    },
    {
      "cell_type": "markdown",
      "metadata": {
        "id": "i823-qCkmNn2"
      },
      "source": [
        "Dropping columns with negative correlation becuase they have low to no  effect on the overrall column ."
      ]
    },
    {
      "cell_type": "markdown",
      "metadata": {
        "id": "wSnt9SlDcSLa"
      },
      "source": []
    },
    {
      "cell_type": "code",
      "execution_count": 11,
      "metadata": {
        "id": "_1aXDPi2xK6T"
      },
      "outputs": [],
      "source": [
        "data_male.drop(['goalkeeping_diving','goalkeeping_handling','goalkeeping_kicking','goalkeeping_reflexes','goalkeeping_positioning','nation_jersey_number','nationality_id','club_jersey_number','club_team_id','league_level','nation_team_id', 'fifa_update','player_id'], axis=1, inplace=True)\n"
      ]
    },
    {
      "cell_type": "markdown",
      "metadata": {
        "id": "YVEGomt5mqD-"
      },
      "source": [
        "Assigning all columns that end with \"_url\" to url_columns"
      ]
    },
    {
      "cell_type": "code",
      "execution_count": 12,
      "metadata": {
        "id": "EO_lvjbLF1cR"
      },
      "outputs": [],
      "source": [
        "url_cols_male = [col for col in data_male.columns if col.endswith('_url')]\n",
        "data_male.drop(columns=url_cols_male, axis=1, inplace=True)"
      ]
    },
    {
      "cell_type": "markdown",
      "metadata": {
        "id": "2kSvJp-h4RTV"
      },
      "source": []
    },
    {
      "cell_type": "markdown",
      "metadata": {
        "id": "Zin76SiDoRAH"
      },
      "source": [
        "Dropping object columns in data_22 dataset before checking  before  imputation(replace missing values)"
      ]
    },
    {
      "cell_type": "code",
      "execution_count": 13,
      "metadata": {
        "id": "_ImBa-7Y2oVL"
      },
      "outputs": [],
      "source": [
        "data_22.drop(['club_name','league_name','club_position','club_loaned_from','club_joined','club_contract_valid_until','nation_position','player_tags','player_traits','real_face','player_positions', 'goalkeeping_speed', 'dob'], axis=1, inplace=True)"
      ]
    },
    {
      "cell_type": "markdown",
      "metadata": {
        "id": "5DlRKtP-ovBy"
      },
      "source": [
        "Dropping object columns in data_22 dataset before checking before  imputation(replace missing values)"
      ]
    },
    {
      "cell_type": "code",
      "execution_count": 14,
      "metadata": {
        "id": "j7rjbSdz3lf1"
      },
      "outputs": [],
      "source": [
        "data_male.drop(['club_name','league_name','club_position','club_loaned_from','nation_position','club_joined_date','club_contract_valid_until_year','player_tags','player_traits','real_face','player_positions', 'goalkeeping_speed', 'dob'], axis=1, inplace=True)"
      ]
    },
    {
      "cell_type": "markdown",
      "metadata": {
        "id": "-WLDvI7Ywww3"
      },
      "source": [
        "assisgn all columns with data type object to drop_cols"
      ]
    },
    {
      "cell_type": "code",
      "execution_count": 15,
      "metadata": {
        "collapsed": true,
        "id": "6KVRGXZt8TaD"
      },
      "outputs": [],
      "source": [
        "drop_cols = data_22.select_dtypes(include=['object'])\n"
      ]
    },
    {
      "cell_type": "markdown",
      "metadata": {
        "id": "8XGShe0nw9CQ"
      },
      "source": [
        "drop all the object columns in data_22"
      ]
    },
    {
      "cell_type": "code",
      "execution_count": 16,
      "metadata": {
        "id": "IXVXInhB82Nt"
      },
      "outputs": [],
      "source": [
        "data_22.drop(data_22.select_dtypes(include=['object']), axis=1, inplace=True)\n"
      ]
    },
    {
      "cell_type": "code",
      "execution_count": 17,
      "metadata": {
        "colab": {
          "base_uri": "https://localhost:8080/"
        },
        "collapsed": true,
        "id": "79gmb3B882Ch",
        "outputId": "673f0bc6-2702-4881-fc74-629bfc366640"
      },
      "outputs": [
        {
          "name": "stdout",
          "output_type": "stream",
          "text": [
            "<class 'pandas.core.frame.DataFrame'>\n",
            "RangeIndex: 19239 entries, 0 to 19238\n",
            "Data columns (total 46 columns):\n",
            " #   Column                       Non-Null Count  Dtype  \n",
            "---  ------                       --------------  -----  \n",
            " 0   overall                      19239 non-null  int64  \n",
            " 1   potential                    19239 non-null  int64  \n",
            " 2   value_eur                    19165 non-null  float64\n",
            " 3   wage_eur                     19178 non-null  float64\n",
            " 4   age                          19239 non-null  int64  \n",
            " 5   height_cm                    19239 non-null  int64  \n",
            " 6   weight_kg                    19239 non-null  int64  \n",
            " 7   weak_foot                    19239 non-null  int64  \n",
            " 8   skill_moves                  19239 non-null  int64  \n",
            " 9   international_reputation     19239 non-null  int64  \n",
            " 10  release_clause_eur           18063 non-null  float64\n",
            " 11  pace                         17107 non-null  float64\n",
            " 12  shooting                     17107 non-null  float64\n",
            " 13  passing                      17107 non-null  float64\n",
            " 14  dribbling                    17107 non-null  float64\n",
            " 15  defending                    17107 non-null  float64\n",
            " 16  physic                       17107 non-null  float64\n",
            " 17  attacking_crossing           19239 non-null  int64  \n",
            " 18  attacking_finishing          19239 non-null  int64  \n",
            " 19  attacking_heading_accuracy   19239 non-null  int64  \n",
            " 20  attacking_short_passing      19239 non-null  int64  \n",
            " 21  attacking_volleys            19239 non-null  int64  \n",
            " 22  skill_dribbling              19239 non-null  int64  \n",
            " 23  skill_curve                  19239 non-null  int64  \n",
            " 24  skill_fk_accuracy            19239 non-null  int64  \n",
            " 25  skill_long_passing           19239 non-null  int64  \n",
            " 26  skill_ball_control           19239 non-null  int64  \n",
            " 27  movement_acceleration        19239 non-null  int64  \n",
            " 28  movement_sprint_speed        19239 non-null  int64  \n",
            " 29  movement_agility             19239 non-null  int64  \n",
            " 30  movement_reactions           19239 non-null  int64  \n",
            " 31  movement_balance             19239 non-null  int64  \n",
            " 32  power_shot_power             19239 non-null  int64  \n",
            " 33  power_jumping                19239 non-null  int64  \n",
            " 34  power_stamina                19239 non-null  int64  \n",
            " 35  power_strength               19239 non-null  int64  \n",
            " 36  power_long_shots             19239 non-null  int64  \n",
            " 37  mentality_aggression         19239 non-null  int64  \n",
            " 38  mentality_interceptions      19239 non-null  int64  \n",
            " 39  mentality_positioning        19239 non-null  int64  \n",
            " 40  mentality_vision             19239 non-null  int64  \n",
            " 41  mentality_penalties          19239 non-null  int64  \n",
            " 42  mentality_composure          19239 non-null  int64  \n",
            " 43  defending_marking_awareness  19239 non-null  int64  \n",
            " 44  defending_standing_tackle    19239 non-null  int64  \n",
            " 45  defending_sliding_tackle     19239 non-null  int64  \n",
            "dtypes: float64(9), int64(37)\n",
            "memory usage: 6.8 MB\n"
          ]
        }
      ],
      "source": [
        "data_22.info()"
      ]
    },
    {
      "cell_type": "markdown",
      "metadata": {
        "id": "-0DATMlRxF00"
      },
      "source": [
        "assisgn all columns with data type object in data_male to drop_cols_male"
      ]
    },
    {
      "cell_type": "code",
      "execution_count": 18,
      "metadata": {
        "id": "RCTiMNeL43Cu"
      },
      "outputs": [],
      "source": [
        "drop_cols_male = data_male.select_dtypes(include=['object'])\n"
      ]
    },
    {
      "cell_type": "markdown",
      "metadata": {
        "id": "rtO5CLpOxPAJ"
      },
      "source": [
        "drop all the object columns in data_male"
      ]
    },
    {
      "cell_type": "code",
      "execution_count": 19,
      "metadata": {
        "id": "elkMnyPN8yUo"
      },
      "outputs": [],
      "source": [
        "data_male.drop(data_male.select_dtypes(include=['object']), axis=1, inplace=True)\n"
      ]
    },
    {
      "cell_type": "markdown",
      "metadata": {
        "id": "4AoOF8js_FSL"
      },
      "source": []
    },
    {
      "cell_type": "code",
      "execution_count": 20,
      "metadata": {
        "colab": {
          "base_uri": "https://localhost:8080/"
        },
        "collapsed": true,
        "id": "TLBXhZDS8yNS",
        "outputId": "db1a7bf9-2b89-42fe-b7bc-f984b7da035e"
      },
      "outputs": [
        {
          "name": "stdout",
          "output_type": "stream",
          "text": [
            "<class 'pandas.core.frame.DataFrame'>\n",
            "RangeIndex: 19239 entries, 0 to 19238\n",
            "Data columns (total 46 columns):\n",
            " #   Column                       Non-Null Count  Dtype  \n",
            "---  ------                       --------------  -----  \n",
            " 0   overall                      19239 non-null  int64  \n",
            " 1   potential                    19239 non-null  int64  \n",
            " 2   value_eur                    19165 non-null  float64\n",
            " 3   wage_eur                     19178 non-null  float64\n",
            " 4   age                          19239 non-null  int64  \n",
            " 5   height_cm                    19239 non-null  int64  \n",
            " 6   weight_kg                    19239 non-null  int64  \n",
            " 7   weak_foot                    19239 non-null  int64  \n",
            " 8   skill_moves                  19239 non-null  int64  \n",
            " 9   international_reputation     19239 non-null  int64  \n",
            " 10  release_clause_eur           18063 non-null  float64\n",
            " 11  pace                         17107 non-null  float64\n",
            " 12  shooting                     17107 non-null  float64\n",
            " 13  passing                      17107 non-null  float64\n",
            " 14  dribbling                    17107 non-null  float64\n",
            " 15  defending                    17107 non-null  float64\n",
            " 16  physic                       17107 non-null  float64\n",
            " 17  attacking_crossing           19239 non-null  int64  \n",
            " 18  attacking_finishing          19239 non-null  int64  \n",
            " 19  attacking_heading_accuracy   19239 non-null  int64  \n",
            " 20  attacking_short_passing      19239 non-null  int64  \n",
            " 21  attacking_volleys            19239 non-null  int64  \n",
            " 22  skill_dribbling              19239 non-null  int64  \n",
            " 23  skill_curve                  19239 non-null  int64  \n",
            " 24  skill_fk_accuracy            19239 non-null  int64  \n",
            " 25  skill_long_passing           19239 non-null  int64  \n",
            " 26  skill_ball_control           19239 non-null  int64  \n",
            " 27  movement_acceleration        19239 non-null  int64  \n",
            " 28  movement_sprint_speed        19239 non-null  int64  \n",
            " 29  movement_agility             19239 non-null  int64  \n",
            " 30  movement_reactions           19239 non-null  int64  \n",
            " 31  movement_balance             19239 non-null  int64  \n",
            " 32  power_shot_power             19239 non-null  int64  \n",
            " 33  power_jumping                19239 non-null  int64  \n",
            " 34  power_stamina                19239 non-null  int64  \n",
            " 35  power_strength               19239 non-null  int64  \n",
            " 36  power_long_shots             19239 non-null  int64  \n",
            " 37  mentality_aggression         19239 non-null  int64  \n",
            " 38  mentality_interceptions      19239 non-null  int64  \n",
            " 39  mentality_positioning        19239 non-null  int64  \n",
            " 40  mentality_vision             19239 non-null  int64  \n",
            " 41  mentality_penalties          19239 non-null  int64  \n",
            " 42  mentality_composure          19239 non-null  int64  \n",
            " 43  defending_marking_awareness  19239 non-null  int64  \n",
            " 44  defending_standing_tackle    19239 non-null  int64  \n",
            " 45  defending_sliding_tackle     19239 non-null  int64  \n",
            "dtypes: float64(9), int64(37)\n",
            "memory usage: 6.8 MB\n"
          ]
        }
      ],
      "source": [
        "data_22.info()"
      ]
    },
    {
      "cell_type": "markdown",
      "metadata": {
        "id": "1Y189wNUxTEq"
      },
      "source": [
        "check for missing values in data_22"
      ]
    },
    {
      "cell_type": "code",
      "execution_count": 21,
      "metadata": {
        "colab": {
          "base_uri": "https://localhost:8080/"
        },
        "collapsed": true,
        "id": "_iQxd-5i9Efx",
        "outputId": "78fa1b27-f0d7-44b1-9433-6f1e6af123fd"
      },
      "outputs": [
        {
          "name": "stdout",
          "output_type": "stream",
          "text": [
            "overall                           0\n",
            "potential                         0\n",
            "value_eur                        74\n",
            "wage_eur                         61\n",
            "age                               0\n",
            "height_cm                         0\n",
            "weight_kg                         0\n",
            "weak_foot                         0\n",
            "skill_moves                       0\n",
            "international_reputation          0\n",
            "release_clause_eur             1176\n",
            "pace                           2132\n",
            "shooting                       2132\n",
            "passing                        2132\n",
            "dribbling                      2132\n",
            "defending                      2132\n",
            "physic                         2132\n",
            "attacking_crossing                0\n",
            "attacking_finishing               0\n",
            "attacking_heading_accuracy        0\n",
            "attacking_short_passing           0\n",
            "attacking_volleys                 0\n",
            "skill_dribbling                   0\n",
            "skill_curve                       0\n",
            "skill_fk_accuracy                 0\n",
            "skill_long_passing                0\n",
            "skill_ball_control                0\n",
            "movement_acceleration             0\n",
            "movement_sprint_speed             0\n",
            "movement_agility                  0\n",
            "movement_reactions                0\n",
            "movement_balance                  0\n",
            "power_shot_power                  0\n",
            "power_jumping                     0\n",
            "power_stamina                     0\n",
            "power_strength                    0\n",
            "power_long_shots                  0\n",
            "mentality_aggression              0\n",
            "mentality_interceptions           0\n",
            "mentality_positioning             0\n",
            "mentality_vision                  0\n",
            "mentality_penalties               0\n",
            "mentality_composure               0\n",
            "defending_marking_awareness       0\n",
            "defending_standing_tackle         0\n",
            "defending_sliding_tackle          0\n",
            "dtype: int64\n"
          ]
        }
      ],
      "source": [
        "missing_values = data_22.isnull().sum()\n",
        "print(missing_values)"
      ]
    },
    {
      "cell_type": "markdown",
      "metadata": {
        "id": "A_3WFeW7xYsc"
      },
      "source": [
        "check for missing values in data_22"
      ]
    },
    {
      "cell_type": "code",
      "execution_count": 22,
      "metadata": {
        "colab": {
          "base_uri": "https://localhost:8080/"
        },
        "collapsed": true,
        "id": "p839EMMF9PlB",
        "outputId": "77eadad8-ae16-4280-b333-972348256687"
      },
      "outputs": [
        {
          "name": "stdout",
          "output_type": "stream",
          "text": [
            "fifa_version                       0\n",
            "overall                            0\n",
            "potential                          0\n",
            "value_eur                       2053\n",
            "wage_eur                        1761\n",
            "age                                0\n",
            "height_cm                          0\n",
            "weight_kg                          0\n",
            "league_id                       1773\n",
            "weak_foot                          0\n",
            "skill_moves                        0\n",
            "international_reputation           0\n",
            "release_clause_eur             57961\n",
            "pace                           17969\n",
            "shooting                       17969\n",
            "passing                        17969\n",
            "dribbling                      17969\n",
            "defending                      17969\n",
            "physic                         17969\n",
            "attacking_crossing                 0\n",
            "attacking_finishing                0\n",
            "attacking_heading_accuracy         0\n",
            "attacking_short_passing            0\n",
            "attacking_volleys                  0\n",
            "skill_dribbling                    0\n",
            "skill_curve                        0\n",
            "skill_fk_accuracy                  0\n",
            "skill_long_passing                 0\n",
            "skill_ball_control                 0\n",
            "movement_acceleration              0\n",
            "movement_sprint_speed              0\n",
            "movement_agility                   0\n",
            "movement_reactions                 0\n",
            "movement_balance                   0\n",
            "power_shot_power                   0\n",
            "power_jumping                      0\n",
            "power_stamina                      0\n",
            "power_strength                     0\n",
            "power_long_shots                   0\n",
            "mentality_aggression               0\n",
            "mentality_interceptions            0\n",
            "mentality_positioning              0\n",
            "mentality_vision                   0\n",
            "mentality_penalties                0\n",
            "mentality_composure            32861\n",
            "defending_marking_awareness        0\n",
            "defending_standing_tackle          0\n",
            "defending_sliding_tackle           0\n",
            "dtype: int64\n"
          ]
        }
      ],
      "source": [
        "missing_values_2 = data_male.isnull().sum()\n",
        "print(missing_values_2)"
      ]
    },
    {
      "cell_type": "markdown",
      "metadata": {
        "id": "oBha2TPP9uLm"
      },
      "source": [
        "Using simple imputer to replace the  missing values in the data_22. with the mean"
      ]
    },
    {
      "cell_type": "code",
      "execution_count": 23,
      "metadata": {
        "collapsed": true,
        "id": "MB8VSEed9VAl"
      },
      "outputs": [],
      "source": [
        "from sklearn.impute import SimpleImputer\n",
        "imp = SimpleImputer(strategy='mean')\n",
        "imputed_data_22 = imp.fit_transform(data_22)\n"
      ]
    },
    {
      "cell_type": "markdown",
      "metadata": {
        "id": "sB9HD11gn1BB"
      },
      "source": [
        "Assigning a  new DataFrame data_22 from imputed_data and assign it as the original data_22 DataFrame."
      ]
    },
    {
      "cell_type": "code",
      "execution_count": 24,
      "metadata": {
        "collapsed": true,
        "id": "Rl41VMzVx4yt"
      },
      "outputs": [],
      "source": [
        "data_22= pd.DataFrame(imputed_data_22, columns=data_22.columns)\n"
      ]
    },
    {
      "cell_type": "markdown",
      "metadata": {
        "id": "LpXVOS_do6Hq"
      },
      "source": [
        "Adding the object columns back into the data_22 dataset after replacing missing values"
      ]
    },
    {
      "cell_type": "code",
      "execution_count": 25,
      "metadata": {
        "id": "9Qp8EBotUB2A"
      },
      "outputs": [],
      "source": [
        "data_22 = pd.concat([drop_cols, data_22], axis=1)\n"
      ]
    },
    {
      "cell_type": "markdown",
      "metadata": {
        "id": "rjx18q59nXwe"
      },
      "source": [
        "Using simple imputer to replace the  missing values in the data_22. with the mean\n"
      ]
    },
    {
      "cell_type": "code",
      "execution_count": 26,
      "metadata": {
        "id": "b-5kDCQvUBzP"
      },
      "outputs": [],
      "source": [
        "from sklearn.impute import SimpleImputer\n",
        "imp = SimpleImputer(strategy='mean')\n",
        "imputed_data_male = imp.fit_transform(data_male)\n"
      ]
    },
    {
      "cell_type": "markdown",
      "metadata": {
        "id": "jH9MZ9YmpOO6"
      },
      "source": [
        "Assigning a  new DataFrame data_male from imputed_data and assign it as the original data_male DataFrame."
      ]
    },
    {
      "cell_type": "code",
      "execution_count": 27,
      "metadata": {
        "id": "t2cumbQLUBvW"
      },
      "outputs": [],
      "source": [
        "data_male= pd.DataFrame(imputed_data_male, columns=data_male.columns)\n"
      ]
    },
    {
      "cell_type": "markdown",
      "metadata": {
        "id": "lOoijz4CpK-q"
      },
      "source": [
        "Adding the object columns back into the data_male  dataset after replacing missing values"
      ]
    },
    {
      "cell_type": "code",
      "execution_count": 28,
      "metadata": {
        "id": "M42KP3eSVDIY"
      },
      "outputs": [],
      "source": [
        "data_male = pd.concat([drop_cols_male, data_male], axis=1)\n"
      ]
    },
    {
      "cell_type": "code",
      "execution_count": 29,
      "metadata": {
        "id": "pVzWe_XxJ77N"
      },
      "outputs": [],
      "source": [
        "# data_22.drop(['player_face_url', 'club_logo_url', 'club_flag_url','nation_logo_url', 'nation_flag_url'], axis=1, inplace=True)"
      ]
    },
    {
      "cell_type": "code",
      "execution_count": 30,
      "metadata": {
        "id": "0IkQqBRqKWGU"
      },
      "outputs": [],
      "source": [
        "# data_male.drop('player_face_url')"
      ]
    },
    {
      "cell_type": "markdown",
      "metadata": {
        "id": "eyoF9louvTGO"
      },
      "source": [
        "assigning all object columns in data_22 dataset to Unique cols except (unecessary  and encoded variables)"
      ]
    },
    {
      "cell_type": "code",
      "execution_count": 31,
      "metadata": {
        "id": "j5ftkl_7UBls"
      },
      "outputs": [],
      "source": [
        "unique_cols = data_22.select_dtypes(include=['object']).drop(['short_name','long_name','nationality_name','preferred_foot','work_rate','body_type'], axis=1)\n",
        "\n"
      ]
    },
    {
      "cell_type": "markdown",
      "metadata": {
        "id": "kAWX8HoIvq6n"
      },
      "source": [
        "coverting all columns in unique cols from object into strings"
      ]
    },
    {
      "cell_type": "code",
      "execution_count": 32,
      "metadata": {
        "collapsed": true,
        "id": "Z4O9Q7mpUBfM"
      },
      "outputs": [],
      "source": [
        "for col in unique_cols.columns:\n",
        "    unique_cols[col] = unique_cols[col].astype(str)\n",
        "\n"
      ]
    },
    {
      "cell_type": "markdown",
      "metadata": {
        "id": "scAyGXKqv8fO"
      },
      "source": [
        "assigning all object columns in data_male dataset to Unique cols male except (unecessary  and encoded variables)"
      ]
    },
    {
      "cell_type": "code",
      "execution_count": 33,
      "metadata": {
        "id": "G5c91KtxL0Cp"
      },
      "outputs": [],
      "source": [
        "unique_cols_male = data_male.select_dtypes(include=['object']).drop(['short_name','long_name','nationality_name','preferred_foot','work_rate','body_type'], axis=1)\n",
        "\n"
      ]
    },
    {
      "cell_type": "markdown",
      "metadata": {
        "id": "QrzriLZcwIuk"
      },
      "source": [
        "coverting all columns in unique_cols_male from object into strings"
      ]
    },
    {
      "cell_type": "code",
      "execution_count": 34,
      "metadata": {
        "id": "RwLDIeOAMAJv"
      },
      "outputs": [],
      "source": [
        "for col in unique_cols_male .columns:\n",
        "    unique_cols_male [col] = unique_cols_male [col].astype(str)\n",
        "\n"
      ]
    },
    {
      "cell_type": "markdown",
      "metadata": {
        "id": "LSXxSG_oaFEt"
      },
      "source": [
        "creating a function that  takes all strings in the columns with \"-\" and \"+\"  , coverts them into integer and  adds them  together"
      ]
    },
    {
      "cell_type": "code",
      "execution_count": 35,
      "metadata": {
        "id": "H8LW3Eu1NKux"
      },
      "outputs": [],
      "source": [
        "def convert_and_sum_value(value):\n",
        "    if pd.isna(value):\n",
        "        return 0\n",
        "    else:\n",
        "        parts = str(value).replace('-', '+').split('+')\n",
        "        num1 = int(parts[0])\n",
        "        num2 = int(parts[1]) if len(parts) > 1 else 0\n",
        "        return num1 + num2\n",
        "\n"
      ]
    },
    {
      "cell_type": "markdown",
      "metadata": {
        "id": "1MJk-HGNxwpJ"
      },
      "source": [
        "looping through all  columns in in Unique_cols and pushing  it through the convert and sum function"
      ]
    },
    {
      "cell_type": "code",
      "execution_count": 36,
      "metadata": {
        "id": "L8yTatvswdwM"
      },
      "outputs": [],
      "source": [
        "for col in unique_cols.columns:\n",
        "    unique_cols[col] = unique_cols[col].apply( convert_and_sum_value)\n"
      ]
    },
    {
      "cell_type": "markdown",
      "metadata": {
        "id": "_FkxxEjYyAh8"
      },
      "source": [
        "looping through all  columns in in Unique_cols_male and pushing  it through the convert and sum function"
      ]
    },
    {
      "cell_type": "code",
      "execution_count": 37,
      "metadata": {
        "id": "8GFRTmPLZ9fO"
      },
      "outputs": [],
      "source": [
        "for col in unique_cols_male.columns:\n",
        "   unique_cols_male[col] = unique_cols_male[col].apply( convert_and_sum_value)\n",
        "\n"
      ]
    },
    {
      "cell_type": "markdown",
      "metadata": {
        "id": "feix4KhAOgFZ"
      },
      "source": [
        "created a copy of the data i transformed"
      ]
    },
    {
      "cell_type": "code",
      "execution_count": 38,
      "metadata": {
        "id": "KYRqV6ohBrmV"
      },
      "outputs": [],
      "source": [
        "# correcting values like \"89+3\"\n",
        "data_male.drop(data_male.select_dtypes(include=['object']).drop(['short_name','long_name', 'nationality_name','preferred_foot','work_rate','body_type'], axis=1), axis=1, inplace=True)\n",
        "begin_cols = data_male[data_male.columns[:8].tolist()]\n",
        "data_male.drop(begin_cols, axis=1, inplace=True)\n",
        "data_male = pd.concat([unique_cols_male, data_male], axis=1)\n",
        "data_male = pd.concat([begin_cols, data_male], axis=1)"
      ]
    },
    {
      "cell_type": "code",
      "execution_count": 39,
      "metadata": {
        "id": "QZEJ11uDB8nn"
      },
      "outputs": [],
      "source": [
        "# correcting values like \"89+3\"\n",
        "data_22.drop(data_22.select_dtypes(include=['object']).drop(['short_name','long_name', 'nationality_name','preferred_foot','work_rate','body_type'], axis=1), axis=1, inplace=True)\n",
        "begin_cols2 = data_22[data_22.columns[:8].tolist()]\n",
        "data_22.drop(begin_cols2, axis=1, inplace=True)\n",
        "data_22 = pd.concat([unique_cols, data_22], axis=1)\n",
        "data_22= pd.concat([begin_cols2, data_22], axis=1)"
      ]
    },
    {
      "cell_type": "markdown",
      "metadata": {
        "id": "_9EUnMv7rLyE"
      },
      "source": [
        "importing label enconder to convert my categorical data into numerical"
      ]
    },
    {
      "cell_type": "code",
      "execution_count": 40,
      "metadata": {
        "id": "aVS0rLxoe4x4"
      },
      "outputs": [],
      "source": [
        "from sklearn.preprocessing import LabelEncoder"
      ]
    },
    {
      "cell_type": "code",
      "execution_count": 41,
      "metadata": {
        "id": "o_uiLV_dkeB5"
      },
      "outputs": [],
      "source": [
        "\n",
        "p_foot = data_22['preferred_foot']\n",
        "work_r = data_22['work_rate']\n",
        "body_t = data_22['body_type']\n"
      ]
    },
    {
      "cell_type": "markdown",
      "metadata": {
        "id": "V1kmONtqp1a_"
      },
      "source": [
        "converting the categorical data of work rate column into numerical data  for data_22 dataset"
      ]
    },
    {
      "cell_type": "code",
      "execution_count": 42,
      "metadata": {
        "id": "Skv2xHQ95qH1"
      },
      "outputs": [],
      "source": [
        "\n",
        "work_r_label_encoder = LabelEncoder()\n",
        "work_r_encoded = work_r_label_encoder.fit_transform(work_r)\n",
        "work_r = pd.Series(work_r_encoded, name='work_rate')"
      ]
    },
    {
      "cell_type": "markdown",
      "metadata": {
        "id": "P7UUG7Cvq-2S"
      },
      "source": [
        "converting the categorical data of body_type column into numerical data  for data_22 dataset"
      ]
    },
    {
      "cell_type": "code",
      "execution_count": 43,
      "metadata": {
        "id": "GWcNk5LN6G_A"
      },
      "outputs": [],
      "source": [
        "\n",
        "body_t_label_encoder = LabelEncoder()\n",
        "body_t_encoded = body_t_label_encoder.fit_transform(body_t)\n",
        "body_t = pd.Series(body_t_encoded, name='body_type')\n",
        "\n"
      ]
    },
    {
      "cell_type": "markdown",
      "metadata": {
        "id": "j6QOLD0rq_vH"
      },
      "source": [
        "converting the categorical data of preferred foot rate column into numerical data  for data_22 dataset"
      ]
    },
    {
      "cell_type": "code",
      "execution_count": 44,
      "metadata": {
        "id": "uDxVvOr7kd_v"
      },
      "outputs": [],
      "source": [
        "\n",
        "p_foot_label_encoder = LabelEncoder()\n",
        "p_foot_encoded = p_foot_label_encoder.fit_transform(p_foot)\n",
        "p_foot = pd.Series(p_foot_encoded, name='preferred_foot')\n"
      ]
    },
    {
      "cell_type": "markdown",
      "metadata": {
        "id": "WWXgwHSLFReI"
      },
      "source": []
    },
    {
      "cell_type": "code",
      "execution_count": 45,
      "metadata": {
        "id": "7Y10tvGsQlqH"
      },
      "outputs": [],
      "source": [
        "data_22 = pd.concat([data_22, p_foot, work_r, body_t], axis=1)"
      ]
    },
    {
      "cell_type": "markdown",
      "metadata": {
        "id": "dqwUdgr9rj3j"
      },
      "source": [
        "Asssigning the following columns  to  the respective  variables for encoding"
      ]
    },
    {
      "cell_type": "code",
      "execution_count": 46,
      "metadata": {
        "id": "zkbIVbU6Qln9"
      },
      "outputs": [],
      "source": [
        "\n",
        "p_foot2 = data_male['preferred_foot']\n",
        "work_r2 = data_male['work_rate']\n",
        "body_t2 = data_male['body_type']"
      ]
    },
    {
      "cell_type": "markdown",
      "metadata": {
        "id": "W5hphknKrmRE"
      },
      "source": [
        "converting the categorical data of work rate  column into numerical data  for data_22 dataset\n",
        "\n",
        "---\n",
        "\n"
      ]
    },
    {
      "cell_type": "code",
      "execution_count": 47,
      "metadata": {
        "id": "lTdfjhc1Qlh9"
      },
      "outputs": [],
      "source": [
        "work_r2_label_encoder = LabelEncoder()\n",
        "work_r2_encoded = work_r2_label_encoder.fit_transform(work_r2)\n",
        "work_r2 = pd.Series(work_r2_encoded, name='work_rate')"
      ]
    },
    {
      "cell_type": "markdown",
      "metadata": {
        "id": "ZpaLD7qsrnp2"
      },
      "source": [
        "converting the categorical data of body type column into numerical data  for data_22 dataset"
      ]
    },
    {
      "cell_type": "code",
      "execution_count": 48,
      "metadata": {
        "id": "ydUoj_G0QlSB"
      },
      "outputs": [],
      "source": [
        "\n",
        "body_t2_label_encoder = LabelEncoder()\n",
        "body_t2_encoded = body_t2_label_encoder.fit_transform(body_t2)\n",
        "body_t2 = pd.Series(body_t2_encoded, name='body_type')\n"
      ]
    },
    {
      "cell_type": "markdown",
      "metadata": {
        "id": "2_PFY_cxroh4"
      },
      "source": [
        "converting the categorical data of preferred foot column into numerical data  for data_male dataset"
      ]
    },
    {
      "cell_type": "code",
      "execution_count": 49,
      "metadata": {
        "id": "--L54zm9EqDu"
      },
      "outputs": [],
      "source": [
        "\n",
        "p_foot2_label_encoder = LabelEncoder()\n",
        "p_foot2_encoded = p_foot2_label_encoder.fit_transform(p_foot2)\n",
        "p_foot2= pd.Series(p_foot2_encoded, name='preferred_foot')\n"
      ]
    },
    {
      "cell_type": "markdown",
      "metadata": {
        "id": "GLXQRXlz9oVR"
      },
      "source": [
        "joining the converted numerical columns back to the data_male dataset"
      ]
    },
    {
      "cell_type": "code",
      "execution_count": 50,
      "metadata": {
        "id": "5FJFi4LxEp-A"
      },
      "outputs": [],
      "source": [
        "data_male = pd.concat([data_male, p_foot2, work_r2, body_t2], axis=1)"
      ]
    },
    {
      "cell_type": "markdown",
      "metadata": {
        "id": "O00xPvi_IYN5"
      },
      "source": [
        "List al columns and the correlation to the \"overrall\" column in the data 22 dataset"
      ]
    },
    {
      "cell_type": "code",
      "execution_count": 51,
      "metadata": {
        "colab": {
          "base_uri": "https://localhost:8080/"
        },
        "id": "9Ch1s8gMEp3T",
        "outputId": "211b8bd0-e33f-4051-e56d-0c9159d94060"
      },
      "outputs": [
        {
          "data": {
            "text/plain": [
              "overall                        1.000000\n",
              "movement_reactions             0.871823\n",
              "mentality_composure            0.708867\n",
              "passing                        0.663519\n",
              "potential                      0.644275\n",
              "dribbling                      0.618419\n",
              "wage_eur                       0.601001\n",
              "power_shot_power               0.561180\n",
              "value_eur                      0.553823\n",
              "lcm                            0.545816\n",
              "rcm                            0.545816\n",
              "cm                             0.545816\n",
              "release_clause_eur             0.532528\n",
              "mentality_vision               0.523025\n",
              "attacking_short_passing        0.516788\n",
              "skill_long_passing             0.498216\n",
              "lam                            0.494528\n",
              "cam                            0.494528\n",
              "ram                            0.494528\n",
              "physic                         0.491127\n",
              "rs                             0.488270\n",
              "ls                             0.488270\n",
              "st                             0.488270\n",
              "ldm                            0.481874\n",
              "cdm                            0.481874\n",
              "rdm                            0.481874\n",
              "cf                             0.481844\n",
              "lf                             0.481844\n",
              "rf                             0.481844\n",
              "lm                             0.477070\n",
              "rm                             0.477070\n",
              "international_reputation       0.470647\n",
              "skill_ball_control             0.460411\n",
              "age                            0.459451\n",
              "rwb                            0.455350\n",
              "lwb                            0.455350\n",
              "shooting                       0.454368\n",
              "lw                             0.454367\n",
              "rw                             0.454367\n",
              "rb                             0.430412\n",
              "lb                             0.430412\n",
              "skill_curve                    0.420423\n",
              "power_long_shots               0.410010\n",
              "rcb                            0.401902\n",
              "lcb                            0.401902\n",
              "cb                             0.401902\n",
              "attacking_crossing             0.401356\n",
              "mentality_aggression           0.400161\n",
              "power_stamina                  0.385150\n",
              "skill_dribbling                0.384351\n",
              "skill_fk_accuracy              0.381030\n",
              "attacking_volleys              0.380942\n",
              "skill_moves                    0.376226\n",
              "power_strength                 0.364366\n",
              "mentality_positioning          0.358562\n",
              "attacking_heading_accuracy     0.343901\n",
              "mentality_penalties            0.343690\n",
              "attacking_finishing            0.338746\n",
              "defending                      0.321793\n",
              "mentality_interceptions        0.316470\n",
              "defending_marking_awareness    0.312093\n",
              "power_jumping                  0.284689\n",
              "movement_agility               0.270279\n",
              "defending_standing_tackle      0.259773\n",
              "defending_sliding_tackle       0.233589\n",
              "weak_foot                      0.223762\n",
              "movement_sprint_speed          0.205736\n",
              "movement_acceleration          0.194044\n",
              "body_type                      0.170244\n",
              "pace                           0.162116\n",
              "weight_kg                      0.150324\n",
              "movement_balance               0.123700\n",
              "gk                             0.050627\n",
              "height_cm                      0.042787\n",
              "preferred_foot                -0.048961\n",
              "work_rate                     -0.227014\n",
              "Name: overall, dtype: float64"
            ]
          },
          "execution_count": 51,
          "metadata": {},
          "output_type": "execute_result"
        }
      ],
      "source": [
        "correlations = data_22.corr(numeric_only=True)\n",
        "correlations['overall'].sort_values(ascending=False)"
      ]
    },
    {
      "cell_type": "markdown",
      "metadata": {
        "id": "tMPDaD1xH6h1"
      },
      "source": [
        "#Feature Engineering\n",
        "feature subset extraction.Checking the corrrelation of all columns to see with has a correlation greater than 0.45(meaning they have a huge impact on Overrall stat of player ) in the data_male dataset."
      ]
    },
    {
      "cell_type": "code",
      "execution_count": 52,
      "metadata": {
        "id": "cydkaGgWHuYQ"
      },
      "outputs": [],
      "source": [
        "columns_with_high_correlation = correlations['overall'].sort_values(ascending=False)[correlations['overall'] > 0.45].index.tolist()\n",
        "chosen_cols = [col for col in columns_with_high_correlation if col not in unique_cols.columns]\n"
      ]
    },
    {
      "cell_type": "markdown",
      "metadata": {
        "id": "eQQUM_WwtAQu"
      },
      "source": [
        "displaying all columns with  correlation of higher than 0.45"
      ]
    },
    {
      "cell_type": "code",
      "execution_count": 53,
      "metadata": {
        "colab": {
          "base_uri": "https://localhost:8080/"
        },
        "id": "PjeppmViHuTz",
        "outputId": "0ca7eff8-4a93-47de-dec7-5258ccd8bff5"
      },
      "outputs": [
        {
          "name": "stdout",
          "output_type": "stream",
          "text": [
            "['overall', 'movement_reactions', 'mentality_composure', 'passing', 'potential', 'dribbling', 'wage_eur', 'power_shot_power', 'value_eur', 'release_clause_eur', 'mentality_vision', 'attacking_short_passing', 'skill_long_passing', 'physic', 'international_reputation', 'skill_ball_control', 'age', 'shooting']\n"
          ]
        }
      ],
      "source": [
        "print(chosen_cols)"
      ]
    },
    {
      "cell_type": "markdown",
      "metadata": {
        "id": "dTfQ4I2CsZVr"
      },
      "source": [
        "List all columns and the correlation to the \"overrall\" column in the data male dataset"
      ]
    },
    {
      "cell_type": "code",
      "execution_count": 54,
      "metadata": {
        "colab": {
          "base_uri": "https://localhost:8080/"
        },
        "id": "0qbXyk_dHuOu",
        "outputId": "451fa911-9e1b-4736-c949-4fd6e4896c31"
      },
      "outputs": [
        {
          "data": {
            "text/plain": [
              "overall                        1.000000\n",
              "movement_reactions             0.845753\n",
              "potential                      0.695362\n",
              "passing                        0.632617\n",
              "wage_eur                       0.608711\n",
              "mentality_composure            0.604074\n",
              "value_eur                      0.563962\n",
              "dribbling                      0.563384\n",
              "cm                             0.539690\n",
              "rcm                            0.539690\n",
              "lcm                            0.539690\n",
              "attacking_short_passing        0.499757\n",
              "mentality_vision               0.493282\n",
              "lam                            0.489834\n",
              "cam                            0.489834\n",
              "ram                            0.489834\n",
              "international_reputation       0.485234\n",
              "skill_long_passing             0.483808\n",
              "ls                             0.480410\n",
              "st                             0.480410\n",
              "rs                             0.480410\n",
              "power_shot_power               0.480297\n",
              "rdm                            0.479176\n",
              "ldm                            0.479176\n",
              "cdm                            0.479176\n",
              "physic                         0.476732\n",
              "rf                             0.475321\n",
              "lf                             0.475321\n",
              "cf                             0.475321\n",
              "rm                             0.473142\n",
              "lm                             0.473142\n",
              "release_clause_eur             0.461829\n",
              "age                            0.458390\n",
              "skill_ball_control             0.457011\n",
              "rwb                            0.454504\n",
              "lwb                            0.454504\n",
              "lw                             0.449869\n",
              "rw                             0.449869\n",
              "shooting                       0.448143\n",
              "rb                             0.428073\n",
              "lb                             0.428073\n",
              "skill_curve                    0.415863\n",
              "power_long_shots               0.409086\n",
              "mentality_aggression           0.398310\n",
              "attacking_crossing             0.396833\n",
              "cb                             0.393502\n",
              "rcb                            0.393502\n",
              "lcb                            0.393502\n",
              "skill_fk_accuracy              0.387269\n",
              "attacking_volleys              0.377048\n",
              "skill_dribbling                0.369827\n",
              "power_stamina                  0.360025\n",
              "power_strength                 0.350786\n",
              "mentality_positioning          0.350178\n",
              "attacking_heading_accuracy     0.340029\n",
              "mentality_penalties            0.334488\n",
              "skill_moves                    0.330951\n",
              "attacking_finishing            0.326376\n",
              "mentality_interceptions        0.314282\n",
              "defending                      0.301999\n",
              "power_jumping                  0.275578\n",
              "defending_marking_awareness    0.274173\n",
              "movement_agility               0.263671\n",
              "defending_standing_tackle      0.250624\n",
              "defending_sliding_tackle       0.220398\n",
              "weak_foot                      0.217422\n",
              "movement_sprint_speed          0.208990\n",
              "movement_acceleration          0.194625\n",
              "pace                           0.173856\n",
              "weight_kg                      0.140015\n",
              "body_type                      0.123769\n",
              "movement_balance               0.099129\n",
              "gk                             0.051833\n",
              "fifa_version                   0.047487\n",
              "height_cm                      0.044415\n",
              "fifa_update_date               0.044268\n",
              "preferred_foot                -0.042408\n",
              "league_id                     -0.151611\n",
              "work_rate                     -0.223711\n",
              "Name: overall, dtype: float64"
            ]
          },
          "execution_count": 54,
          "metadata": {},
          "output_type": "execute_result"
        }
      ],
      "source": [
        "correlations2 = data_male.corr(numeric_only=True)\n",
        "correlations2['overall'].sort_values(ascending=False)"
      ]
    },
    {
      "cell_type": "markdown",
      "metadata": {
        "id": "q0I45XGsscks"
      },
      "source": [
        "Checking the corrrelation of all columns to see with has a correlation greater than 0.45(meaning they have a huge impact on Overrall stat of player ) in the data_male dataset"
      ]
    },
    {
      "cell_type": "code",
      "execution_count": 55,
      "metadata": {
        "colab": {
          "base_uri": "https://localhost:8080/"
        },
        "id": "IDEDFVvlHuMM",
        "outputId": "9df190b4-855d-4a2c-f8bf-7bdc3f5cdec8"
      },
      "outputs": [
        {
          "name": "stdout",
          "output_type": "stream",
          "text": [
            "17\n"
          ]
        }
      ],
      "source": [
        "columns_with_high_correlation2 = correlations2['overall'].sort_values(ascending=False)[correlations2['overall'] > 0.45].index.tolist()\n",
        "chosen_cols2 = [col for col in columns_with_high_correlation2 if col not in unique_cols_male.columns]\n",
        "print(len(chosen_cols2))"
      ]
    },
    {
      "cell_type": "markdown",
      "metadata": {
        "id": "YrcHWNlcHQN4"
      },
      "source": [
        "Assisgning the chosen columns for"
      ]
    },
    {
      "cell_type": "code",
      "execution_count": 56,
      "metadata": {
        "id": "FvYR8BVqwzab"
      },
      "outputs": [],
      "source": [
        "data_male_train=data_male[chosen_cols2]"
      ]
    },
    {
      "cell_type": "code",
      "execution_count": null,
      "metadata": {},
      "outputs": [],
      "source": [
        "data_22 = df_22[chosen_cols]"
      ]
    },
    {
      "cell_type": "markdown",
      "metadata": {
        "id": "h3BzcQ9O37ad"
      },
      "source": []
    },
    {
      "cell_type": "code",
      "execution_count": 57,
      "metadata": {
        "id": "UCerLHO4wzSQ"
      },
      "outputs": [],
      "source": [
        "data_22_test=data_22[chosen_cols]"
      ]
    },
    {
      "cell_type": "markdown",
      "metadata": {
        "id": "jCvVN4xu4sVM"
      },
      "source": [
        "dependent and independent variables of data_22\n",
        "\n",
        "\n"
      ]
    },
    {
      "cell_type": "code",
      "execution_count": 58,
      "metadata": {
        "id": "uck0ZCOuzdDK"
      },
      "outputs": [],
      "source": [
        "Y_male = data_male_train['overall']\n",
        "X_male = data_male_train.drop('overall', axis=1)\n"
      ]
    },
    {
      "cell_type": "markdown",
      "metadata": {
        "id": "XNTvaPNa4_CW"
      },
      "source": [
        "Importing standard scaler to scale the  data_male dataset ."
      ]
    },
    {
      "cell_type": "code",
      "execution_count": 59,
      "metadata": {
        "id": "9d7IZuyr5Mob"
      },
      "outputs": [],
      "source": [
        "from sklearn.preprocessing import StandardScaler\n",
        "scaler = StandardScaler().fit(X_male.copy())\n",
        "X_male=pd.DataFrame(scaler.transform(X_male.copy()), columns=X_male.columns)"
      ]
    },
    {
      "cell_type": "code",
      "execution_count": 60,
      "metadata": {
        "id": "loHERAS75MYT"
      },
      "outputs": [],
      "source": [
        "import pickle\n",
        "filename = 'Fifa24.pkl'\n",
        "pickle.dump(scaler, open(filename, 'wb'))\n"
      ]
    },
    {
      "cell_type": "markdown",
      "metadata": {
        "id": "aqvEEw56h_O_"
      },
      "source": [
        "importing necessary libraries for taining and testing"
      ]
    },
    {
      "cell_type": "code",
      "execution_count": 61,
      "metadata": {
        "id": "vpnOGwlw-cx4"
      },
      "outputs": [],
      "source": [
        "from sklearn.model_selection import GridSearchCV, KFold\n",
        "from sklearn.metrics import mean_absolute_error, mean_squared_error\n",
        "from sklearn.ensemble import RandomForestRegressor\n",
        "from sklearn.ensemble import GradientBoostingRegressor\n",
        "from sklearn.model_selection import RandomizedSearchCV"
      ]
    },
    {
      "cell_type": "markdown",
      "metadata": {
        "id": "e3mQDSaPdRIg"
      },
      "source": [
        "splitting the data into training and testing"
      ]
    },
    {
      "cell_type": "code",
      "execution_count": 62,
      "metadata": {
        "colab": {
          "base_uri": "https://localhost:8080/"
        },
        "id": "1ORwfLSd-gDV",
        "outputId": "2e7d27e3-d8cb-4c19-8019-7331a79a7198"
      },
      "outputs": [
        {
          "name": "stdout",
          "output_type": "stream",
          "text": [
            "[     1      2      3 ... 161580 161581 161582] [     0      4     12 ... 161564 161571 161579]\n",
            "[     0      1      2 ... 161579 161581 161582] [    22     23     31 ... 161573 161576 161580]\n",
            "[     0      2      4 ... 161578 161579 161580] [     1      3      7 ... 161572 161581 161582]\n",
            "[     0      1      3 ... 161580 161581 161582] [     2      6      9 ... 161562 161575 161577]\n",
            "[     0      1      2 ... 161580 161581 161582] [     5     10     15 ... 161565 161574 161578]\n"
          ]
        }
      ],
      "source": [
        "kf = KFold(n_splits=5, shuffle=True, random_state=42)\n",
        "for train_index, test_index in kf.split(X_male, Y_male):\n",
        "    print(train_index, test_index)\n",
        "    Xtrain = pd.DataFrame(X_male, index=train_index)\n",
        "    Xtest = pd.DataFrame(X_male, index=test_index)\n",
        "    Ytrain = pd.DataFrame(Y_male, index=train_index)\n",
        "    Ytest = pd.DataFrame(Y_male, index=test_index)"
      ]
    },
    {
      "cell_type": "markdown",
      "metadata": {
        "id": "ATrdDsTr6RhS"
      },
      "source": [
        "#using random forest regression"
      ]
    },
    {
      "cell_type": "code",
      "execution_count": 146,
      "metadata": {},
      "outputs": [
        {
          "name": "stdout",
          "output_type": "stream",
          "text": [
            "Order of columns in which the model was fitted:  ['movement_reactions', 'potential', 'passing', 'wage_eur', 'mentality_composure', 'value_eur', 'dribbling', 'attacking_short_passing', 'mentality_vision', 'international_reputation', 'skill_long_passing', 'power_shot_power', 'physic', 'release_clause_eur', 'age', 'skill_ball_control']\n"
          ]
        }
      ],
      "source": [
        "print(\"Order of columns in which the model was fitted: \", list(Xtrain.columns))"
      ]
    },
    {
      "cell_type": "code",
      "execution_count": 63,
      "metadata": {
        "id": "RQFZvkWv-_7w"
      },
      "outputs": [],
      "source": [
        "rf = RandomForestRegressor(n_estimators=50, max_depth=10, criterion='absolute_error', n_jobs=-1)\n",
        "rf.fit(Xtrain, Ytrain.values.ravel())\n",
        "y_pred = rf.predict(Xtest)"
      ]
    },
    {
      "cell_type": "code",
      "execution_count": 145,
      "metadata": {},
      "outputs": [],
      "source": [
        "# Save the trained model to a file using pickle\n",
        "with open('ranf_fifa_model.pkl', 'wb') as model_file:\n",
        "    pickle.dump(rf, model_file)"
      ]
    },
    {
      "cell_type": "code",
      "execution_count": 64,
      "metadata": {
        "colab": {
          "base_uri": "https://localhost:8080/"
        },
        "id": "2er6O18e-_5l",
        "outputId": "1dd98808-7b79-48fe-dc33-b8c4b447e331"
      },
      "outputs": [
        {
          "data": {
            "text/plain": [
              "0.6659171927218716"
            ]
          },
          "execution_count": 64,
          "metadata": {},
          "output_type": "execute_result"
        }
      ],
      "source": [
        "mean_absolute_error(Ytest, y_pred)"
      ]
    },
    {
      "cell_type": "code",
      "execution_count": 65,
      "metadata": {
        "colab": {
          "base_uri": "https://localhost:8080/"
        },
        "id": "tO-QEAcb_I4u",
        "outputId": "351e3abf-4420-405b-9024-18ba520d2aa9"
      },
      "outputs": [
        {
          "data": {
            "text/plain": [
              "1.087547418983736"
            ]
          },
          "execution_count": 65,
          "metadata": {},
          "output_type": "execute_result"
        }
      ],
      "source": [
        "np.sqrt(mean_squared_error(Ytest, y_pred))"
      ]
    },
    {
      "cell_type": "markdown",
      "metadata": {
        "id": "tHxkwsuPLDlY"
      },
      "source": [
        "#Gradient boost"
      ]
    },
    {
      "cell_type": "code",
      "execution_count": 67,
      "metadata": {
        "id": "Pm6dzeEm_M24"
      },
      "outputs": [],
      "source": [
        "gboost = GradientBoostingRegressor(init=rf, n_estimators=100, learning_rate=0.001, criterion='friedman_mse')\n",
        "gboost.fit(Xtrain, Ytrain.values.ravel())\n",
        "y_pred = gboost.predict(Xtest)"
      ]
    },
    {
      "cell_type": "code",
      "execution_count": 68,
      "metadata": {
        "colab": {
          "base_uri": "https://localhost:8080/"
        },
        "id": "L65qKT21_XJk",
        "outputId": "f2096cec-7aae-4639-cce3-8fa5939e748e"
      },
      "outputs": [
        {
          "data": {
            "text/plain": [
              "0.6622629995618446"
            ]
          },
          "execution_count": 68,
          "metadata": {},
          "output_type": "execute_result"
        }
      ],
      "source": [
        "mean_absolute_error(Ytest, y_pred)"
      ]
    },
    {
      "cell_type": "code",
      "execution_count": 69,
      "metadata": {
        "colab": {
          "base_uri": "https://localhost:8080/"
        },
        "id": "3EnMd6jY_XG9",
        "outputId": "a108135f-f752-4239-cdcf-d65fef5e3818"
      },
      "outputs": [
        {
          "data": {
            "text/plain": [
              "1.080579495037207"
            ]
          },
          "execution_count": 69,
          "metadata": {},
          "output_type": "execute_result"
        }
      ],
      "source": [
        "np.sqrt(mean_squared_error(Ytest, y_pred))"
      ]
    },
    {
      "cell_type": "code",
      "execution_count": null,
      "metadata": {},
      "outputs": [],
      "source": [
        "pip install xgboost"
      ]
    },
    {
      "cell_type": "code",
      "execution_count": null,
      "metadata": {
        "id": "5-IpJZm7_Mx7"
      },
      "outputs": [],
      "source": [
        "from xgboost.sklearn import XGBRegressor"
      ]
    },
    {
      "cell_type": "markdown",
      "metadata": {
        "id": "iEM9bwto5OfO"
      },
      "source": [
        "#XGB boost"
      ]
    },
    {
      "cell_type": "code",
      "execution_count": null,
      "metadata": {
        "id": "p8QpqRNe_cdj"
      },
      "outputs": [],
      "source": [
        "xgb = XGBRegressor(\n",
        "    n_estimators=100,\n",
        "    learning_rate=0.0001,\n",
        "    objective='reg:squarederror'\n",
        ")\n",
        "xgb.fit(Xtrain, Ytrain)\n",
        "y_pred=xgb.predict(Xtest)"
      ]
    },
    {
      "cell_type": "code",
      "execution_count": null,
      "metadata": {
        "colab": {
          "base_uri": "https://localhost:8080/"
        },
        "id": "JnWUA1l5uq8A",
        "outputId": "032f9603-758b-49c3-f608-13388f6d7d84"
      },
      "outputs": [],
      "source": [
        "mean_absolute_error(Ytest, y_pred)"
      ]
    },
    {
      "cell_type": "code",
      "execution_count": null,
      "metadata": {
        "colab": {
          "base_uri": "https://localhost:8080/"
        },
        "id": "_Bnh5P2durYe",
        "outputId": "5d49ca14-0118-4666-dddf-3c502eedfa0c"
      },
      "outputs": [],
      "source": [
        "np.sqrt(mean_squared_error(Ytest, y_pred))"
      ]
    },
    {
      "cell_type": "markdown",
      "metadata": {
        "id": "zhK6xv3E_i_Z"
      },
      "source": [
        "#Hyperparameter Tuning with Grid Search"
      ]
    },
    {
      "cell_type": "code",
      "execution_count": 107,
      "metadata": {
        "id": "OdhtUIEK_idp"
      },
      "outputs": [],
      "source": [
        "param_dist = {\n",
        "    'n_estimators': [10, ],\n",
        "    'max_depth': [5,],\n",
        "    'criterion': ['absolute_error']\n",
        "}"
      ]
    },
    {
      "cell_type": "code",
      "execution_count": 108,
      "metadata": {
        "id": "ng9iuBoP_ibZ"
      },
      "outputs": [],
      "source": [
        "rf = RandomForestRegressor(n_estimators=10, max_depth=5, criterion='absolute_error', n_jobs=-1)\n"
      ]
    },
    {
      "cell_type": "code",
      "execution_count": 109,
      "metadata": {
        "id": "FvbgQJZG_iYp"
      },
      "outputs": [],
      "source": [
        "kf = KFold(n_splits=3, shuffle=True, random_state=42)  # Reduced number of splits for faster execution\n"
      ]
    },
    {
      "cell_type": "code",
      "execution_count": 110,
      "metadata": {
        "id": "feW7xGhkAFy8"
      },
      "outputs": [],
      "source": [
        "rf_random_search = RandomizedSearchCV(rf, param_distributions=param_dist, n_iter=10, cv=kf, scoring='neg_mean_absolute_error', n_jobs=-1, random_state=42)\n"
      ]
    },
    {
      "cell_type": "code",
      "execution_count": 111,
      "metadata": {},
      "outputs": [
        {
          "data": {
            "text/html": [
              "<style>#sk-container-id-1 {\n",
              "  /* Definition of color scheme common for light and dark mode */\n",
              "  --sklearn-color-text: black;\n",
              "  --sklearn-color-line: gray;\n",
              "  /* Definition of color scheme for unfitted estimators */\n",
              "  --sklearn-color-unfitted-level-0: #fff5e6;\n",
              "  --sklearn-color-unfitted-level-1: #f6e4d2;\n",
              "  --sklearn-color-unfitted-level-2: #ffe0b3;\n",
              "  --sklearn-color-unfitted-level-3: chocolate;\n",
              "  /* Definition of color scheme for fitted estimators */\n",
              "  --sklearn-color-fitted-level-0: #f0f8ff;\n",
              "  --sklearn-color-fitted-level-1: #d4ebff;\n",
              "  --sklearn-color-fitted-level-2: #b3dbfd;\n",
              "  --sklearn-color-fitted-level-3: cornflowerblue;\n",
              "\n",
              "  /* Specific color for light theme */\n",
              "  --sklearn-color-text-on-default-background: var(--sg-text-color, var(--theme-code-foreground, var(--jp-content-font-color1, black)));\n",
              "  --sklearn-color-background: var(--sg-background-color, var(--theme-background, var(--jp-layout-color0, white)));\n",
              "  --sklearn-color-border-box: var(--sg-text-color, var(--theme-code-foreground, var(--jp-content-font-color1, black)));\n",
              "  --sklearn-color-icon: #696969;\n",
              "\n",
              "  @media (prefers-color-scheme: dark) {\n",
              "    /* Redefinition of color scheme for dark theme */\n",
              "    --sklearn-color-text-on-default-background: var(--sg-text-color, var(--theme-code-foreground, var(--jp-content-font-color1, white)));\n",
              "    --sklearn-color-background: var(--sg-background-color, var(--theme-background, var(--jp-layout-color0, #111)));\n",
              "    --sklearn-color-border-box: var(--sg-text-color, var(--theme-code-foreground, var(--jp-content-font-color1, white)));\n",
              "    --sklearn-color-icon: #878787;\n",
              "  }\n",
              "}\n",
              "\n",
              "#sk-container-id-1 {\n",
              "  color: var(--sklearn-color-text);\n",
              "}\n",
              "\n",
              "#sk-container-id-1 pre {\n",
              "  padding: 0;\n",
              "}\n",
              "\n",
              "#sk-container-id-1 input.sk-hidden--visually {\n",
              "  border: 0;\n",
              "  clip: rect(1px 1px 1px 1px);\n",
              "  clip: rect(1px, 1px, 1px, 1px);\n",
              "  height: 1px;\n",
              "  margin: -1px;\n",
              "  overflow: hidden;\n",
              "  padding: 0;\n",
              "  position: absolute;\n",
              "  width: 1px;\n",
              "}\n",
              "\n",
              "#sk-container-id-1 div.sk-dashed-wrapped {\n",
              "  border: 1px dashed var(--sklearn-color-line);\n",
              "  margin: 0 0.4em 0.5em 0.4em;\n",
              "  box-sizing: border-box;\n",
              "  padding-bottom: 0.4em;\n",
              "  background-color: var(--sklearn-color-background);\n",
              "}\n",
              "\n",
              "#sk-container-id-1 div.sk-container {\n",
              "  /* jupyter's `normalize.less` sets `[hidden] { display: none; }`\n",
              "     but bootstrap.min.css set `[hidden] { display: none !important; }`\n",
              "     so we also need the `!important` here to be able to override the\n",
              "     default hidden behavior on the sphinx rendered scikit-learn.org.\n",
              "     See: https://github.com/scikit-learn/scikit-learn/issues/21755 */\n",
              "  display: inline-block !important;\n",
              "  position: relative;\n",
              "}\n",
              "\n",
              "#sk-container-id-1 div.sk-text-repr-fallback {\n",
              "  display: none;\n",
              "}\n",
              "\n",
              "div.sk-parallel-item,\n",
              "div.sk-serial,\n",
              "div.sk-item {\n",
              "  /* draw centered vertical line to link estimators */\n",
              "  background-image: linear-gradient(var(--sklearn-color-text-on-default-background), var(--sklearn-color-text-on-default-background));\n",
              "  background-size: 2px 100%;\n",
              "  background-repeat: no-repeat;\n",
              "  background-position: center center;\n",
              "}\n",
              "\n",
              "/* Parallel-specific style estimator block */\n",
              "\n",
              "#sk-container-id-1 div.sk-parallel-item::after {\n",
              "  content: \"\";\n",
              "  width: 100%;\n",
              "  border-bottom: 2px solid var(--sklearn-color-text-on-default-background);\n",
              "  flex-grow: 1;\n",
              "}\n",
              "\n",
              "#sk-container-id-1 div.sk-parallel {\n",
              "  display: flex;\n",
              "  align-items: stretch;\n",
              "  justify-content: center;\n",
              "  background-color: var(--sklearn-color-background);\n",
              "  position: relative;\n",
              "}\n",
              "\n",
              "#sk-container-id-1 div.sk-parallel-item {\n",
              "  display: flex;\n",
              "  flex-direction: column;\n",
              "}\n",
              "\n",
              "#sk-container-id-1 div.sk-parallel-item:first-child::after {\n",
              "  align-self: flex-end;\n",
              "  width: 50%;\n",
              "}\n",
              "\n",
              "#sk-container-id-1 div.sk-parallel-item:last-child::after {\n",
              "  align-self: flex-start;\n",
              "  width: 50%;\n",
              "}\n",
              "\n",
              "#sk-container-id-1 div.sk-parallel-item:only-child::after {\n",
              "  width: 0;\n",
              "}\n",
              "\n",
              "/* Serial-specific style estimator block */\n",
              "\n",
              "#sk-container-id-1 div.sk-serial {\n",
              "  display: flex;\n",
              "  flex-direction: column;\n",
              "  align-items: center;\n",
              "  background-color: var(--sklearn-color-background);\n",
              "  padding-right: 1em;\n",
              "  padding-left: 1em;\n",
              "}\n",
              "\n",
              "\n",
              "/* Toggleable style: style used for estimator/Pipeline/ColumnTransformer box that is\n",
              "clickable and can be expanded/collapsed.\n",
              "- Pipeline and ColumnTransformer use this feature and define the default style\n",
              "- Estimators will overwrite some part of the style using the `sk-estimator` class\n",
              "*/\n",
              "\n",
              "/* Pipeline and ColumnTransformer style (default) */\n",
              "\n",
              "#sk-container-id-1 div.sk-toggleable {\n",
              "  /* Default theme specific background. It is overwritten whether we have a\n",
              "  specific estimator or a Pipeline/ColumnTransformer */\n",
              "  background-color: var(--sklearn-color-background);\n",
              "}\n",
              "\n",
              "/* Toggleable label */\n",
              "#sk-container-id-1 label.sk-toggleable__label {\n",
              "  cursor: pointer;\n",
              "  display: block;\n",
              "  width: 100%;\n",
              "  margin-bottom: 0;\n",
              "  padding: 0.5em;\n",
              "  box-sizing: border-box;\n",
              "  text-align: center;\n",
              "}\n",
              "\n",
              "#sk-container-id-1 label.sk-toggleable__label-arrow:before {\n",
              "  /* Arrow on the left of the label */\n",
              "  content: \"▸\";\n",
              "  float: left;\n",
              "  margin-right: 0.25em;\n",
              "  color: var(--sklearn-color-icon);\n",
              "}\n",
              "\n",
              "#sk-container-id-1 label.sk-toggleable__label-arrow:hover:before {\n",
              "  color: var(--sklearn-color-text);\n",
              "}\n",
              "\n",
              "/* Toggleable content - dropdown */\n",
              "\n",
              "#sk-container-id-1 div.sk-toggleable__content {\n",
              "  max-height: 0;\n",
              "  max-width: 0;\n",
              "  overflow: hidden;\n",
              "  text-align: left;\n",
              "  /* unfitted */\n",
              "  background-color: var(--sklearn-color-unfitted-level-0);\n",
              "}\n",
              "\n",
              "#sk-container-id-1 div.sk-toggleable__content.fitted {\n",
              "  /* fitted */\n",
              "  background-color: var(--sklearn-color-fitted-level-0);\n",
              "}\n",
              "\n",
              "#sk-container-id-1 div.sk-toggleable__content pre {\n",
              "  margin: 0.2em;\n",
              "  border-radius: 0.25em;\n",
              "  color: var(--sklearn-color-text);\n",
              "  /* unfitted */\n",
              "  background-color: var(--sklearn-color-unfitted-level-0);\n",
              "}\n",
              "\n",
              "#sk-container-id-1 div.sk-toggleable__content.fitted pre {\n",
              "  /* unfitted */\n",
              "  background-color: var(--sklearn-color-fitted-level-0);\n",
              "}\n",
              "\n",
              "#sk-container-id-1 input.sk-toggleable__control:checked~div.sk-toggleable__content {\n",
              "  /* Expand drop-down */\n",
              "  max-height: 200px;\n",
              "  max-width: 100%;\n",
              "  overflow: auto;\n",
              "}\n",
              "\n",
              "#sk-container-id-1 input.sk-toggleable__control:checked~label.sk-toggleable__label-arrow:before {\n",
              "  content: \"▾\";\n",
              "}\n",
              "\n",
              "/* Pipeline/ColumnTransformer-specific style */\n",
              "\n",
              "#sk-container-id-1 div.sk-label input.sk-toggleable__control:checked~label.sk-toggleable__label {\n",
              "  color: var(--sklearn-color-text);\n",
              "  background-color: var(--sklearn-color-unfitted-level-2);\n",
              "}\n",
              "\n",
              "#sk-container-id-1 div.sk-label.fitted input.sk-toggleable__control:checked~label.sk-toggleable__label {\n",
              "  background-color: var(--sklearn-color-fitted-level-2);\n",
              "}\n",
              "\n",
              "/* Estimator-specific style */\n",
              "\n",
              "/* Colorize estimator box */\n",
              "#sk-container-id-1 div.sk-estimator input.sk-toggleable__control:checked~label.sk-toggleable__label {\n",
              "  /* unfitted */\n",
              "  background-color: var(--sklearn-color-unfitted-level-2);\n",
              "}\n",
              "\n",
              "#sk-container-id-1 div.sk-estimator.fitted input.sk-toggleable__control:checked~label.sk-toggleable__label {\n",
              "  /* fitted */\n",
              "  background-color: var(--sklearn-color-fitted-level-2);\n",
              "}\n",
              "\n",
              "#sk-container-id-1 div.sk-label label.sk-toggleable__label,\n",
              "#sk-container-id-1 div.sk-label label {\n",
              "  /* The background is the default theme color */\n",
              "  color: var(--sklearn-color-text-on-default-background);\n",
              "}\n",
              "\n",
              "/* On hover, darken the color of the background */\n",
              "#sk-container-id-1 div.sk-label:hover label.sk-toggleable__label {\n",
              "  color: var(--sklearn-color-text);\n",
              "  background-color: var(--sklearn-color-unfitted-level-2);\n",
              "}\n",
              "\n",
              "/* Label box, darken color on hover, fitted */\n",
              "#sk-container-id-1 div.sk-label.fitted:hover label.sk-toggleable__label.fitted {\n",
              "  color: var(--sklearn-color-text);\n",
              "  background-color: var(--sklearn-color-fitted-level-2);\n",
              "}\n",
              "\n",
              "/* Estimator label */\n",
              "\n",
              "#sk-container-id-1 div.sk-label label {\n",
              "  font-family: monospace;\n",
              "  font-weight: bold;\n",
              "  display: inline-block;\n",
              "  line-height: 1.2em;\n",
              "}\n",
              "\n",
              "#sk-container-id-1 div.sk-label-container {\n",
              "  text-align: center;\n",
              "}\n",
              "\n",
              "/* Estimator-specific */\n",
              "#sk-container-id-1 div.sk-estimator {\n",
              "  font-family: monospace;\n",
              "  border: 1px dotted var(--sklearn-color-border-box);\n",
              "  border-radius: 0.25em;\n",
              "  box-sizing: border-box;\n",
              "  margin-bottom: 0.5em;\n",
              "  /* unfitted */\n",
              "  background-color: var(--sklearn-color-unfitted-level-0);\n",
              "}\n",
              "\n",
              "#sk-container-id-1 div.sk-estimator.fitted {\n",
              "  /* fitted */\n",
              "  background-color: var(--sklearn-color-fitted-level-0);\n",
              "}\n",
              "\n",
              "/* on hover */\n",
              "#sk-container-id-1 div.sk-estimator:hover {\n",
              "  /* unfitted */\n",
              "  background-color: var(--sklearn-color-unfitted-level-2);\n",
              "}\n",
              "\n",
              "#sk-container-id-1 div.sk-estimator.fitted:hover {\n",
              "  /* fitted */\n",
              "  background-color: var(--sklearn-color-fitted-level-2);\n",
              "}\n",
              "\n",
              "/* Specification for estimator info (e.g. \"i\" and \"?\") */\n",
              "\n",
              "/* Common style for \"i\" and \"?\" */\n",
              "\n",
              ".sk-estimator-doc-link,\n",
              "a:link.sk-estimator-doc-link,\n",
              "a:visited.sk-estimator-doc-link {\n",
              "  float: right;\n",
              "  font-size: smaller;\n",
              "  line-height: 1em;\n",
              "  font-family: monospace;\n",
              "  background-color: var(--sklearn-color-background);\n",
              "  border-radius: 1em;\n",
              "  height: 1em;\n",
              "  width: 1em;\n",
              "  text-decoration: none !important;\n",
              "  margin-left: 1ex;\n",
              "  /* unfitted */\n",
              "  border: var(--sklearn-color-unfitted-level-1) 1pt solid;\n",
              "  color: var(--sklearn-color-unfitted-level-1);\n",
              "}\n",
              "\n",
              ".sk-estimator-doc-link.fitted,\n",
              "a:link.sk-estimator-doc-link.fitted,\n",
              "a:visited.sk-estimator-doc-link.fitted {\n",
              "  /* fitted */\n",
              "  border: var(--sklearn-color-fitted-level-1) 1pt solid;\n",
              "  color: var(--sklearn-color-fitted-level-1);\n",
              "}\n",
              "\n",
              "/* On hover */\n",
              "div.sk-estimator:hover .sk-estimator-doc-link:hover,\n",
              ".sk-estimator-doc-link:hover,\n",
              "div.sk-label-container:hover .sk-estimator-doc-link:hover,\n",
              ".sk-estimator-doc-link:hover {\n",
              "  /* unfitted */\n",
              "  background-color: var(--sklearn-color-unfitted-level-3);\n",
              "  color: var(--sklearn-color-background);\n",
              "  text-decoration: none;\n",
              "}\n",
              "\n",
              "div.sk-estimator.fitted:hover .sk-estimator-doc-link.fitted:hover,\n",
              ".sk-estimator-doc-link.fitted:hover,\n",
              "div.sk-label-container:hover .sk-estimator-doc-link.fitted:hover,\n",
              ".sk-estimator-doc-link.fitted:hover {\n",
              "  /* fitted */\n",
              "  background-color: var(--sklearn-color-fitted-level-3);\n",
              "  color: var(--sklearn-color-background);\n",
              "  text-decoration: none;\n",
              "}\n",
              "\n",
              "/* Span, style for the box shown on hovering the info icon */\n",
              ".sk-estimator-doc-link span {\n",
              "  display: none;\n",
              "  z-index: 9999;\n",
              "  position: relative;\n",
              "  font-weight: normal;\n",
              "  right: .2ex;\n",
              "  padding: .5ex;\n",
              "  margin: .5ex;\n",
              "  width: min-content;\n",
              "  min-width: 20ex;\n",
              "  max-width: 50ex;\n",
              "  color: var(--sklearn-color-text);\n",
              "  box-shadow: 2pt 2pt 4pt #999;\n",
              "  /* unfitted */\n",
              "  background: var(--sklearn-color-unfitted-level-0);\n",
              "  border: .5pt solid var(--sklearn-color-unfitted-level-3);\n",
              "}\n",
              "\n",
              ".sk-estimator-doc-link.fitted span {\n",
              "  /* fitted */\n",
              "  background: var(--sklearn-color-fitted-level-0);\n",
              "  border: var(--sklearn-color-fitted-level-3);\n",
              "}\n",
              "\n",
              ".sk-estimator-doc-link:hover span {\n",
              "  display: block;\n",
              "}\n",
              "\n",
              "/* \"?\"-specific style due to the `<a>` HTML tag */\n",
              "\n",
              "#sk-container-id-1 a.estimator_doc_link {\n",
              "  float: right;\n",
              "  font-size: 1rem;\n",
              "  line-height: 1em;\n",
              "  font-family: monospace;\n",
              "  background-color: var(--sklearn-color-background);\n",
              "  border-radius: 1rem;\n",
              "  height: 1rem;\n",
              "  width: 1rem;\n",
              "  text-decoration: none;\n",
              "  /* unfitted */\n",
              "  color: var(--sklearn-color-unfitted-level-1);\n",
              "  border: var(--sklearn-color-unfitted-level-1) 1pt solid;\n",
              "}\n",
              "\n",
              "#sk-container-id-1 a.estimator_doc_link.fitted {\n",
              "  /* fitted */\n",
              "  border: var(--sklearn-color-fitted-level-1) 1pt solid;\n",
              "  color: var(--sklearn-color-fitted-level-1);\n",
              "}\n",
              "\n",
              "/* On hover */\n",
              "#sk-container-id-1 a.estimator_doc_link:hover {\n",
              "  /* unfitted */\n",
              "  background-color: var(--sklearn-color-unfitted-level-3);\n",
              "  color: var(--sklearn-color-background);\n",
              "  text-decoration: none;\n",
              "}\n",
              "\n",
              "#sk-container-id-1 a.estimator_doc_link.fitted:hover {\n",
              "  /* fitted */\n",
              "  background-color: var(--sklearn-color-fitted-level-3);\n",
              "}\n",
              "</style><div id=\"sk-container-id-1\" class=\"sk-top-container\"><div class=\"sk-text-repr-fallback\"><pre>RandomizedSearchCV(cv=KFold(n_splits=3, random_state=42, shuffle=True),\n",
              "                   estimator=RandomForestRegressor(criterion=&#x27;absolute_error&#x27;,\n",
              "                                                   max_depth=5, n_estimators=10,\n",
              "                                                   n_jobs=-1),\n",
              "                   n_jobs=-1,\n",
              "                   param_distributions={&#x27;criterion&#x27;: [&#x27;absolute_error&#x27;],\n",
              "                                        &#x27;max_depth&#x27;: [5],\n",
              "                                        &#x27;n_estimators&#x27;: [10]},\n",
              "                   random_state=42, scoring=&#x27;neg_mean_absolute_error&#x27;)</pre><b>In a Jupyter environment, please rerun this cell to show the HTML representation or trust the notebook. <br />On GitHub, the HTML representation is unable to render, please try loading this page with nbviewer.org.</b></div><div class=\"sk-container\" hidden><div class=\"sk-item sk-dashed-wrapped\"><div class=\"sk-label-container\"><div class=\"sk-label fitted sk-toggleable\"><input class=\"sk-toggleable__control sk-hidden--visually\" id=\"sk-estimator-id-1\" type=\"checkbox\" ><label for=\"sk-estimator-id-1\" class=\"sk-toggleable__label fitted sk-toggleable__label-arrow fitted\">&nbsp;&nbsp;RandomizedSearchCV<a class=\"sk-estimator-doc-link fitted\" rel=\"noreferrer\" target=\"_blank\" href=\"https://scikit-learn.org/1.5/modules/generated/sklearn.model_selection.RandomizedSearchCV.html\">?<span>Documentation for RandomizedSearchCV</span></a><span class=\"sk-estimator-doc-link fitted\">i<span>Fitted</span></span></label><div class=\"sk-toggleable__content fitted\"><pre>RandomizedSearchCV(cv=KFold(n_splits=3, random_state=42, shuffle=True),\n",
              "                   estimator=RandomForestRegressor(criterion=&#x27;absolute_error&#x27;,\n",
              "                                                   max_depth=5, n_estimators=10,\n",
              "                                                   n_jobs=-1),\n",
              "                   n_jobs=-1,\n",
              "                   param_distributions={&#x27;criterion&#x27;: [&#x27;absolute_error&#x27;],\n",
              "                                        &#x27;max_depth&#x27;: [5],\n",
              "                                        &#x27;n_estimators&#x27;: [10]},\n",
              "                   random_state=42, scoring=&#x27;neg_mean_absolute_error&#x27;)</pre></div> </div></div><div class=\"sk-parallel\"><div class=\"sk-parallel-item\"><div class=\"sk-item\"><div class=\"sk-label-container\"><div class=\"sk-label fitted sk-toggleable\"><input class=\"sk-toggleable__control sk-hidden--visually\" id=\"sk-estimator-id-2\" type=\"checkbox\" ><label for=\"sk-estimator-id-2\" class=\"sk-toggleable__label fitted sk-toggleable__label-arrow fitted\">best_estimator_: RandomForestRegressor</label><div class=\"sk-toggleable__content fitted\"><pre>RandomForestRegressor(criterion=&#x27;absolute_error&#x27;, max_depth=5, n_estimators=10,\n",
              "                      n_jobs=-1)</pre></div> </div></div><div class=\"sk-serial\"><div class=\"sk-item\"><div class=\"sk-estimator fitted sk-toggleable\"><input class=\"sk-toggleable__control sk-hidden--visually\" id=\"sk-estimator-id-3\" type=\"checkbox\" ><label for=\"sk-estimator-id-3\" class=\"sk-toggleable__label fitted sk-toggleable__label-arrow fitted\">&nbsp;RandomForestRegressor<a class=\"sk-estimator-doc-link fitted\" rel=\"noreferrer\" target=\"_blank\" href=\"https://scikit-learn.org/1.5/modules/generated/sklearn.ensemble.RandomForestRegressor.html\">?<span>Documentation for RandomForestRegressor</span></a></label><div class=\"sk-toggleable__content fitted\"><pre>RandomForestRegressor(criterion=&#x27;absolute_error&#x27;, max_depth=5, n_estimators=10,\n",
              "                      n_jobs=-1)</pre></div> </div></div></div></div></div></div></div></div></div>"
            ],
            "text/plain": [
              "RandomizedSearchCV(cv=KFold(n_splits=3, random_state=42, shuffle=True),\n",
              "                   estimator=RandomForestRegressor(criterion='absolute_error',\n",
              "                                                   max_depth=5, n_estimators=10,\n",
              "                                                   n_jobs=-1),\n",
              "                   n_jobs=-1,\n",
              "                   param_distributions={'criterion': ['absolute_error'],\n",
              "                                        'max_depth': [5],\n",
              "                                        'n_estimators': [10]},\n",
              "                   random_state=42, scoring='neg_mean_absolute_error')"
            ]
          },
          "execution_count": 111,
          "metadata": {},
          "output_type": "execute_result"
        }
      ],
      "source": [
        "rf_random_search.fit(X_male, Y_male.values.ravel())\n"
      ]
    },
    {
      "cell_type": "markdown",
      "metadata": {
        "id": "0DD6A5BZFouD"
      },
      "source": [
        "finding the best model out of the models trained"
      ]
    },
    {
      "cell_type": "code",
      "execution_count": 144,
      "metadata": {},
      "outputs": [
        {
          "name": "stdout",
          "output_type": "stream",
          "text": [
            "Best Parameters Found:  {'n_estimators': 10, 'max_depth': 5, 'criterion': 'absolute_error'}\n",
            "Best Score Achieved:  -1.432413991570895\n",
            "Best Estimator:  RandomForestRegressor(criterion='absolute_error', max_depth=5, n_estimators=10,\n",
            "                      n_jobs=-1)\n",
            "Order of columns in which the model was fitted:  ['movement_reactions', 'potential', 'passing', 'wage_eur', 'mentality_composure', 'value_eur', 'dribbling', 'attacking_short_passing', 'mentality_vision', 'international_reputation', 'skill_long_passing', 'power_shot_power', 'physic', 'release_clause_eur', 'age', 'skill_ball_control']\n"
          ]
        }
      ],
      "source": [
        "print(\"Best Parameters Found: \", rf_random_search.best_params_)\n",
        "print(\"Best Score Achieved: \", rf_random_search.best_score_)\n",
        "print(\"Best Estimator: \", rf_random_search.best_estimator_)\n",
        "print(\"Order of columns in which the model was fitted: \", list(X_male.columns))"
      ]
    },
    {
      "cell_type": "code",
      "execution_count": 112,
      "metadata": {
        "id": "lypyK0COFdyc"
      },
      "outputs": [],
      "source": [
        "best_rf = rf_random_search.best_estimator_\n",
        "y_pred = best_rf.predict(Xtest)"
      ]
    },
    {
      "cell_type": "code",
      "execution_count": 113,
      "metadata": {},
      "outputs": [],
      "source": [
        "mae = mean_absolute_error(Ytest, y_pred)\n",
        "rmse = np.sqrt(mean_squared_error(Ytest, y_pred))\n"
      ]
    },
    {
      "cell_type": "code",
      "execution_count": 119,
      "metadata": {
        "id": "h3lsAHk7Fdv1"
      },
      "outputs": [],
      "source": [
        "y_22 = data_22_test['overall']\n",
        "X_22 = data_22_test.drop('overall', axis=1)"
      ]
    },
    {
      "cell_type": "markdown",
      "metadata": {
        "id": "2tFsj0x_Knf8"
      },
      "source": [
        "scaling the players22 dataset for testing"
      ]
    },
    {
      "cell_type": "code",
      "execution_count": 122,
      "metadata": {},
      "outputs": [],
      "source": [
        "\n",
        "X_22 = X_22.drop('shooting', axis=1)\n"
      ]
    },
    {
      "cell_type": "code",
      "execution_count": 129,
      "metadata": {},
      "outputs": [
        {
          "name": "stdout",
          "output_type": "stream",
          "text": [
            "Index(['movement_reactions', 'potential', 'passing', 'wage_eur',\n",
            "       'mentality_composure', 'value_eur', 'dribbling',\n",
            "       'attacking_short_passing', 'mentality_vision',\n",
            "       'international_reputation', 'skill_long_passing', 'power_shot_power',\n",
            "       'physic', 'release_clause_eur', 'age', 'skill_ball_control'],\n",
            "      dtype='object')\n"
          ]
        }
      ],
      "source": [
        "print(X_male.columns)"
      ]
    },
    {
      "cell_type": "code",
      "execution_count": 131,
      "metadata": {},
      "outputs": [],
      "source": [
        "X_22_reordered = X_22.reindex(columns=X_male.columns)\n"
      ]
    },
    {
      "cell_type": "code",
      "execution_count": 133,
      "metadata": {},
      "outputs": [
        {
          "name": "stdout",
          "output_type": "stream",
          "text": [
            "Columns of X_22_reordered:\n",
            "Index(['movement_reactions', 'potential', 'passing', 'wage_eur',\n",
            "       'mentality_composure', 'value_eur', 'dribbling',\n",
            "       'attacking_short_passing', 'mentality_vision',\n",
            "       'international_reputation', 'skill_long_passing', 'power_shot_power',\n",
            "       'physic', 'release_clause_eur', 'age', 'skill_ball_control'],\n",
            "      dtype='object')\n"
          ]
        }
      ],
      "source": [
        "print(\"Columns of X_22_reordered:\")\n",
        "print(X_22_reordered.columns)\n"
      ]
    },
    {
      "cell_type": "code",
      "execution_count": 134,
      "metadata": {
        "id": "zV97qX5jFdpS"
      },
      "outputs": [],
      "source": [
        "X_22 = pd.DataFrame(scaler.transform(X_22_reordered.copy()), columns=X_22_reordered.columns)"
      ]
    },
    {
      "cell_type": "markdown",
      "metadata": {
        "id": "mVuaADc8KuZA"
      },
      "source": [
        "testing the best model on the players22 dataset"
      ]
    },
    {
      "cell_type": "code",
      "execution_count": 135,
      "metadata": {
        "id": "sZZovFE2F_KT"
      },
      "outputs": [],
      "source": [
        "Xtest_22 = X_22\n",
        "Ytest_22 = y_22\n",
        "y_pred_22 = best_rf.predict(Xtest_22)"
      ]
    },
    {
      "cell_type": "markdown",
      "metadata": {
        "id": "PnnNzQGgprBG"
      },
      "source": [
        "#saving the model\n"
      ]
    },
    {
      "cell_type": "code",
      "execution_count": 147,
      "metadata": {
        "id": "fXE3x6S0pnw7"
      },
      "outputs": [],
      "source": [
        "filename = 'ranf_fifa_model.pkl'\n",
        "pickle.dump(best_rf, open(filename, 'wb'))"
      ]
    }
  ],
  "metadata": {
    "colab": {
      "provenance": []
    },
    "kernelspec": {
      "display_name": "Python 3",
      "name": "python3"
    },
    "language_info": {
      "codemirror_mode": {
        "name": "ipython",
        "version": 3
      },
      "file_extension": ".py",
      "mimetype": "text/x-python",
      "name": "python",
      "nbconvert_exporter": "python",
      "pygments_lexer": "ipython3",
      "version": "3.9.6"
    }
  },
  "nbformat": 4,
  "nbformat_minor": 0
}
